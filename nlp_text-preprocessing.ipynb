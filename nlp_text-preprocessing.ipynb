{
 "cells": [
  {
   "cell_type": "code",
   "execution_count": 1,
   "id": "a822dd42-342f-414e-bbd7-0e91522c6e89",
   "metadata": {},
   "outputs": [],
   "source": [
    "corpus=\"hi there. my name is rajasekaran. i am interested in machine learning\"\n"
   ]
  },
  {
   "cell_type": "code",
   "execution_count": 2,
   "id": "17ba0a28-43c7-4821-aec0-3b556c42a2f6",
   "metadata": {},
   "outputs": [],
   "source": [
    "from nltk.tokenize import sent_tokenize"
   ]
  },
  {
   "cell_type": "code",
   "execution_count": 3,
   "id": "fc232818-6691-46ba-ace0-b2b8fbb5caf6",
   "metadata": {},
   "outputs": [],
   "source": [
    "documents=sent_tokenize(corpus)"
   ]
  },
  {
   "cell_type": "code",
   "execution_count": 4,
   "id": "1d526721-e5c2-4a6c-81c4-d1c31173502c",
   "metadata": {},
   "outputs": [
    {
     "name": "stdout",
     "output_type": "stream",
     "text": [
      "['hi there.', 'my name is rajasekaran.', 'i am interested in machine learning']\n"
     ]
    }
   ],
   "source": [
    "\n",
    "    print(documents)"
   ]
  },
  {
   "cell_type": "code",
   "execution_count": 6,
   "id": "a671dfa3-8e61-4363-a1cb-78e3554d4810",
   "metadata": {},
   "outputs": [
    {
     "data": {
      "text/plain": [
       "['hi',\n",
       " 'there',\n",
       " '.',\n",
       " 'my',\n",
       " 'name',\n",
       " 'is',\n",
       " 'rajasekaran',\n",
       " '.',\n",
       " 'i',\n",
       " 'am',\n",
       " 'interested',\n",
       " 'in',\n",
       " 'machine',\n",
       " 'learning']"
      ]
     },
     "execution_count": 6,
     "metadata": {},
     "output_type": "execute_result"
    }
   ],
   "source": [
    "from nltk.tokenize import word_tokenize\n",
    "word_tokenize(corpus)"
   ]
  },
  {
   "cell_type": "code",
   "execution_count": 7,
   "id": "0b84c4df-218e-44d9-932d-76581f99a447",
   "metadata": {},
   "outputs": [
    {
     "data": {
      "text/plain": [
       "['hi',\n",
       " 'there',\n",
       " '.',\n",
       " 'my',\n",
       " 'name',\n",
       " 'is',\n",
       " 'rajasekaran',\n",
       " '.',\n",
       " 'i',\n",
       " 'am',\n",
       " 'interested',\n",
       " 'in',\n",
       " 'machine',\n",
       " 'learning']"
      ]
     },
     "execution_count": 7,
     "metadata": {},
     "output_type": "execute_result"
    }
   ],
   "source": [
    "from nltk.tokenize import wordpunct_tokenize\n",
    "wordpunct_tokenize(corpus)"
   ]
  },
  {
   "cell_type": "code",
   "execution_count": 8,
   "id": "d719385a-cbda-465e-8547-783cdd4d9137",
   "metadata": {},
   "outputs": [
    {
     "name": "stdout",
     "output_type": "stream",
     "text": [
      "hi there.\n",
      "my name is rajasekaran.\n",
      "i am interested in machine learning\n"
     ]
    }
   ],
   "source": [
    "for i in documents:\n",
    "    print(i)"
   ]
  },
  {
   "cell_type": "code",
   "execution_count": 9,
   "id": "590b08a8-741c-4315-b9dd-9321097b62cd",
   "metadata": {},
   "outputs": [],
   "source": [
    "words=['eat','eating','eaten','go','goes','going']"
   ]
  },
  {
   "cell_type": "code",
   "execution_count": 10,
   "id": "687f08bd-8840-4490-a25a-0b6de1f29de3",
   "metadata": {},
   "outputs": [
    {
     "name": "stdout",
     "output_type": "stream",
     "text": [
      "eat------->eat\n",
      "eating------->eat\n",
      "eaten------->eaten\n",
      "go------->go\n",
      "goes------->goe\n",
      "going------->go\n"
     ]
    }
   ],
   "source": [
    "from nltk.stem import PorterStemmer\n",
    "ps=PorterStemmer()\n",
    "for i in words:\n",
    "    print(i+\"------->\"+ps.stem(i))"
   ]
  },
  {
   "cell_type": "code",
   "execution_count": 11,
   "id": "7588beb8-3c33-4531-a399-327d5b8faf20",
   "metadata": {},
   "outputs": [
    {
     "name": "stdout",
     "output_type": "stream",
     "text": [
      "eat------->eat\n",
      "eating------->eat\n",
      "eaten------->eat\n",
      "go------->go\n",
      "goes------->go\n",
      "going------->go\n"
     ]
    }
   ],
   "source": [
    "from nltk.stem import RegexpStemmer\n",
    "rs=RegexpStemmer(\"ing$|es$|es$|en$\",min=4)\n",
    "for i in words:\n",
    "    print(i+\"------->\"+rs.stem(i))\n",
    "    "
   ]
  },
  {
   "cell_type": "code",
   "execution_count": 12,
   "id": "16406964-5335-4471-a565-c6427aa38d6a",
   "metadata": {},
   "outputs": [
    {
     "name": "stdout",
     "output_type": "stream",
     "text": [
      "eat------->eat\n",
      "eating------->eat\n",
      "eaten------->eaten\n",
      "go------->go\n",
      "goes------->goe\n",
      "going------->go\n"
     ]
    }
   ],
   "source": [
    "from nltk.stem import SnowballStemmer\n",
    "sb=SnowballStemmer(\"english\")\n",
    "for i in words:\n",
    "    print(i+\"------->\"+sb.stem(i))"
   ]
  },
  {
   "cell_type": "code",
   "execution_count": 13,
   "id": "446a6d33-9b79-49b0-bca9-38fd83ce11c2",
   "metadata": {},
   "outputs": [
    {
     "name": "stdout",
     "output_type": "stream",
     "text": [
      "eat------->eat\n",
      "eating------->eat\n",
      "eaten------->eat\n",
      "go------->go\n",
      "goes------->go\n",
      "going------->go\n"
     ]
    }
   ],
   "source": [
    "##lemmetization\n",
    "from nltk.stem import WordNetLemmatizer\n",
    "lemmatizer=WordNetLemmatizer()\n",
    "for i in words:\n",
    "    print(i+\"------->\"+lemmatizer.lemmatize(i,pos='v'))\n",
    "    "
   ]
  },
  {
   "cell_type": "markdown",
   "id": "4374ad90-9f6c-443e-88ec-80caa28a825f",
   "metadata": {},
   "source": [
    "#Text processing using stopwords"
   ]
  },
  {
   "cell_type": "code",
   "execution_count": 14,
   "id": "49637e5a-6048-407c-bc8a-6b99c32dc10c",
   "metadata": {},
   "outputs": [],
   "source": [
    "speech=''' From his first speech in 1919 in Munich until the last speech in February 1945, Adolf Hitler, dictator of Nazi Germany from 1933 to 1945, gave a total of 1525 speeches. In 1932, for the campaign of presidential and two federal elections that year he gave the most speeches, that is 241. Not all have been listed, as it is not practical to do so.\n",
    "\n",
    "As the Reichstag building was destroyed by a fire on 27 February 1933, all of Hitler’s addresses to the Reichstag were held at the neighbouring Kroll Opera House '''"
   ]
  },
  {
   "cell_type": "code",
   "execution_count": 15,
   "id": "078d57a2",
   "metadata": {},
   "outputs": [],
   "source": [
    "from nltk.tokenize import sent_tokenize\n",
    "sentance=sent_tokenize(speech,language='english')"
   ]
  },
  {
   "cell_type": "code",
   "execution_count": 16,
   "id": "3f5c6461",
   "metadata": {},
   "outputs": [
    {
     "data": {
      "text/plain": [
       "[' From his first speech in 1919 in Munich until the last speech in February 1945, Adolf Hitler, dictator of Nazi Germany from 1933 to 1945, gave a total of 1525 speeches.',\n",
       " 'In 1932, for the campaign of presidential and two federal elections that year he gave the most speeches, that is 241.',\n",
       " 'Not all have been listed, as it is not practical to do so.',\n",
       " 'As the Reichstag building was destroyed by a fire on 27 February 1933, all of Hitler’s addresses to the Reichstag were held at the neighbouring Kroll Opera House']"
      ]
     },
     "execution_count": 16,
     "metadata": {},
     "output_type": "execute_result"
    }
   ],
   "source": [
    "sentance"
   ]
  },
  {
   "cell_type": "code",
   "execution_count": 17,
   "id": "080b0baa-ec74-4274-b09f-bb552fa4ea08",
   "metadata": {},
   "outputs": [],
   "source": [
    "from nltk.stem import WordNetLemmatizer\n",
    "from nltk.tokenize import word_tokenize\n",
    "from nltk.corpus import stopwords"
   ]
  },
  {
   "cell_type": "code",
   "execution_count": null,
   "id": "2379cd0d-37af-482f-8e11-e000e8642ba5",
   "metadata": {},
   "outputs": [
    {
     "ename": "TypeError",
     "evalue": "'LazyCorpusLoader' object is not callable",
     "output_type": "error",
     "traceback": [
      "\u001b[1;31m---------------------------------------------------------------------------\u001b[0m",
      "\u001b[1;31mTypeError\u001b[0m                                 Traceback (most recent call last)",
      "Cell \u001b[1;32mIn[21], line 3\u001b[0m\n\u001b[0;32m      1\u001b[0m \u001b[38;5;28;01mfor\u001b[39;00m i \u001b[38;5;129;01min\u001b[39;00m \u001b[38;5;28mrange\u001b[39m(\u001b[38;5;241m0\u001b[39m,\u001b[38;5;28mlen\u001b[39m(sentance)):\n\u001b[0;32m      2\u001b[0m     words\u001b[38;5;241m=\u001b[39msentance[i]\u001b[38;5;241m.\u001b[39mlower()\n\u001b[1;32m----> 3\u001b[0m     lemma\u001b[38;5;241m=\u001b[39m[WordNetLemmatizer()\u001b[38;5;241m.\u001b[39mlemmatize(j,pos\u001b[38;5;241m=\u001b[39m\u001b[38;5;124m'\u001b[39m\u001b[38;5;124mv\u001b[39m\u001b[38;5;124m'\u001b[39m) \u001b[38;5;28;01mfor\u001b[39;00m j \u001b[38;5;129;01min\u001b[39;00m words \u001b[38;5;28;01mif\u001b[39;00m j \u001b[38;5;129;01mnot\u001b[39;00m \u001b[38;5;129;01min\u001b[39;00m \u001b[38;5;28mset\u001b[39m(stopwords()\u001b[38;5;241m.\u001b[39mwords())]\n\u001b[0;32m      4\u001b[0m     sentance[i]\u001b[38;5;241m=\u001b[39m\u001b[38;5;124m\"\u001b[39m\u001b[38;5;124m \u001b[39m\u001b[38;5;124m\"\u001b[39m\u001b[38;5;241m.\u001b[39mjoin()\n",
      "\u001b[1;31mTypeError\u001b[0m: 'LazyCorpusLoader' object is not callable"
     ]
    }
   ],
   "source": [
    "for i in range(0,len(sentance)):\n",
    "    words=word_tokenize(sentance[i].lower())\n",
    "    lemmas=[WordNetLemmatizer().lemmatize(j,pos='v') for j in words if j not in set(stopwords.words('english'))]\n",
    "    sentance[i]=' '.join(lemmas)"
   ]
  },
  {
   "cell_type": "code",
   "execution_count": 23,
   "id": "adbf0bf2",
   "metadata": {},
   "outputs": [
    {
     "name": "stdout",
     "output_type": "stream",
     "text": [
      "{'but', 'theirs', 'are', 'have', 'itself', 'be', 'won', 'any', 'been', 'all', 'doesn', 'll', 'at', 'him', 'a', 'mustn', 'did', 'by', 'when', 'himself', 'not', 'other', 'through', 'doing', 'an', 'don', 'between', 'down', 'will', 'very', \"shouldn't\", 'herself', \"you're\", 'them', 'being', 'didn', 'should', 'this', 'it', 'while', 'most', 'with', 'can', \"that'll\", 'yourself', 'ourselves', 'isn', 'about', 'its', 'after', \"shan't\", 'over', 'ours', \"hasn't\", 'yours', 'on', 'of', \"wasn't\", 'hasn', 'few', 'we', 'just', \"aren't\", 'once', 'own', 'nor', 'that', 'my', 'each', \"it's\", \"didn't\", 'aren', 'am', 'our', 've', 'she', 'was', 'again', 'were', 'until', 'such', \"mightn't\", 'then', 'their', 'couldn', 'shouldn', 'before', 'more', 'myself', 'has', 'is', 't', 'below', 'too', 'm', 'some', \"doesn't\", 'ma', \"she's\", 'where', 'yourselves', 'do', 'for', 'only', 'd', 'me', 'i', 'who', \"you've\", 'off', \"hadn't\", 'hadn', 'they', 'up', 'or', 'needn', 'which', \"couldn't\", 'he', 'wasn', 'weren', 'same', 're', \"don't\", 'into', \"you'd\", \"needn't\", 'there', 'o', 'hers', 'whom', 'these', 'y', 'against', 'to', \"isn't\", 'haven', \"haven't\", \"mustn't\", 'what', 'here', \"won't\", 'both', 'shan', 'the', \"wouldn't\", 'why', \"weren't\", 'than', 'those', 'wouldn', \"should've\", 'your', 'does', 'if', 'no', \"you'll\", 'in', 'out', 'themselves', 'had', 'further', 'so', 's', 'you', 'during', 'from', 'now', 'because', 'having', 'and', 'above', 'how', 'mightn', 'under', 'ain', 'his', 'her', 'as'}\n"
     ]
    }
   ],
   "source": [
    "print(set(stopwords.words('english')))"
   ]
  },
  {
   "cell_type": "code",
   "execution_count": 21,
   "id": "cdbace97-364c-416b-bc6d-ebbfec021eaf",
   "metadata": {},
   "outputs": [
    {
     "data": {
      "text/plain": [
       "['first speech 1919 munich last speech february 1945 , adolf hitler , dictator nazi germany 1933 1945 , give total 1525 speeches .',\n",
       " '1932 , campaign presidential two federal elections year give speeches , 241 .',\n",
       " 'list , practical .',\n",
       " 'reichstag build destroy fire 27 february 1933 , hitler ’ address reichstag hold neighbour kroll opera house']"
      ]
     },
     "execution_count": 21,
     "metadata": {},
     "output_type": "execute_result"
    }
   ],
   "source": [
    "sentance"
   ]
  },
  {
   "cell_type": "markdown",
   "id": "073fb7b5",
   "metadata": {},
   "source": [
    "###pos tag truncate value error \n",
    "import nltk\n",
    "# Download the required resource\n",
    "nltk.download('averaged_perceptron_tagger_eng')"
   ]
  },
  {
   "cell_type": "code",
   "execution_count": 25,
   "id": "2bc39e27-1225-486b-889a-8f8fdeb1088c",
   "metadata": {},
   "outputs": [
    {
     "name": "stdout",
     "output_type": "stream",
     "text": [
      "[('the', 'DT'), ('taj', 'NN'), ('mahal', 'NN')]\n"
     ]
    }
   ],
   "source": [
    "#pos_tag what kind of word wheather it is noun,verb,adjactive\n",
    "import nltk\n",
    "print(nltk.pos_tag(\"the taj mahal\".split()))"
   ]
  },
  {
   "cell_type": "code",
   "execution_count": 27,
   "id": "89dac3d7-7404-4c05-af98-2871a24f59fc",
   "metadata": {},
   "outputs": [],
   "source": [
    "import nltk\n",
    "words=nltk.word_tokenize(speech)\n",
    "tsg_elements=nltk.pos_tag(words)"
   ]
  },
  {
   "cell_type": "code",
   "execution_count": 28,
   "id": "0e24f965-ebf5-4d41-ba7f-3b1c798b0d59",
   "metadata": {},
   "outputs": [
    {
     "name": "stdout",
     "output_type": "stream",
     "text": [
      "[('From', 'IN'), ('his', 'PRP$'), ('first', 'JJ'), ('speech', 'NN'), ('in', 'IN'), ('1919', 'CD'), ('in', 'IN'), ('Munich', 'NNP'), ('until', 'IN'), ('the', 'DT'), ('last', 'JJ'), ('speech', 'NN'), ('in', 'IN'), ('February', 'NNP'), ('1945', 'CD'), (',', ','), ('Adolf', 'NNP'), ('Hitler', 'NNP'), (',', ','), ('dictator', 'NN'), ('of', 'IN'), ('Nazi', 'NNP'), ('Germany', 'NNP'), ('from', 'IN'), ('1933', 'CD'), ('to', 'TO'), ('1945', 'CD'), (',', ','), ('gave', 'VBD'), ('a', 'DT'), ('total', 'NN'), ('of', 'IN'), ('1525', 'CD'), ('speeches', 'NNS'), ('.', '.'), ('In', 'IN'), ('1932', 'CD'), (',', ','), ('for', 'IN'), ('the', 'DT'), ('campaign', 'NN'), ('of', 'IN'), ('presidential', 'JJ'), ('and', 'CC'), ('two', 'CD'), ('federal', 'JJ'), ('elections', 'NNS'), ('that', 'IN'), ('year', 'NN'), ('he', 'PRP'), ('gave', 'VBD'), ('the', 'DT'), ('most', 'RBS'), ('speeches', 'NNS'), (',', ','), ('that', 'WDT'), ('is', 'VBZ'), ('241', 'CD'), ('.', '.'), ('Not', 'RB'), ('all', 'DT'), ('have', 'VBP'), ('been', 'VBN'), ('listed', 'VBN'), (',', ','), ('as', 'IN'), ('it', 'PRP'), ('is', 'VBZ'), ('not', 'RB'), ('practical', 'JJ'), ('to', 'TO'), ('do', 'VB'), ('so', 'RB'), ('.', '.'), ('As', 'IN'), ('the', 'DT'), ('Reichstag', 'NNP'), ('building', 'NN'), ('was', 'VBD'), ('destroyed', 'VBN'), ('by', 'IN'), ('a', 'DT'), ('fire', 'NN'), ('on', 'IN'), ('27', 'CD'), ('February', 'NNP'), ('1933', 'CD'), (',', ','), ('all', 'DT'), ('of', 'IN'), ('Hitler', 'NNP'), ('’', 'NNP'), ('s', 'NN'), ('addresses', 'VBZ'), ('to', 'TO'), ('the', 'DT'), ('Reichstag', 'NNP'), ('were', 'VBD'), ('held', 'VBN'), ('at', 'IN'), ('the', 'DT'), ('neighbouring', 'VBG'), ('Kroll', 'NNP'), ('Opera', 'NNP'), ('House', 'NNP')]\n"
     ]
    }
   ],
   "source": [
    "print(tsg_elements)"
   ]
  },
  {
   "cell_type": "code",
   "execution_count": null,
   "id": "af3fe91d-1894-4ed7-a524-e28e205f2aa5",
   "metadata": {},
   "outputs": [],
   "source": []
  },
  {
   "cell_type": "code",
   "execution_count": null,
   "id": "f8bb65f3-bc22-48bb-8fe4-9c90199f045a",
   "metadata": {},
   "outputs": [],
   "source": []
  },
  {
   "cell_type": "code",
   "execution_count": null,
   "id": "b9d2737f-5fc8-4f2f-8359-56bbde3065f0",
   "metadata": {},
   "outputs": [],
   "source": []
  },
  {
   "cell_type": "code",
   "execution_count": null,
   "id": "91f8483d-9304-40a7-85b8-fc94f471e086",
   "metadata": {},
   "outputs": [],
   "source": []
  },
  {
   "cell_type": "code",
   "execution_count": null,
   "id": "19d2e5cd-053b-41a4-90c8-1dbaeda21d6a",
   "metadata": {},
   "outputs": [],
   "source": []
  },
  {
   "cell_type": "code",
   "execution_count": null,
   "id": "944d1953-9ff2-47bb-a18c-99c0bc89ff8a",
   "metadata": {},
   "outputs": [],
   "source": []
  },
  {
   "cell_type": "code",
   "execution_count": null,
   "id": "6bb03d1c-7765-41a8-9a2b-442319414e93",
   "metadata": {},
   "outputs": [],
   "source": []
  },
  {
   "cell_type": "code",
   "execution_count": null,
   "id": "c11b5db6-121c-4bca-810a-86abe2596842",
   "metadata": {},
   "outputs": [],
   "source": []
  },
  {
   "cell_type": "code",
   "execution_count": null,
   "id": "42bc3d12-5709-4a53-b404-492aedf8dd01",
   "metadata": {},
   "outputs": [],
   "source": []
  },
  {
   "cell_type": "code",
   "execution_count": null,
   "id": "65c01378-7386-4dad-9c51-77075269b6ee",
   "metadata": {},
   "outputs": [],
   "source": []
  },
  {
   "cell_type": "code",
   "execution_count": null,
   "id": "82116206-2bfe-478b-be53-a80e35dea1aa",
   "metadata": {},
   "outputs": [],
   "source": []
  },
  {
   "cell_type": "code",
   "execution_count": null,
   "id": "5936fd7d-b9c6-4433-bdc3-07c827caab41",
   "metadata": {},
   "outputs": [],
   "source": []
  },
  {
   "cell_type": "code",
   "execution_count": null,
   "id": "204d2ecf-b512-4701-ae8f-2db33ab5b236",
   "metadata": {},
   "outputs": [],
   "source": []
  },
  {
   "cell_type": "code",
   "execution_count": null,
   "id": "bb8ba66e-fe80-4598-bf68-24efe22740f2",
   "metadata": {},
   "outputs": [],
   "source": []
  },
  {
   "cell_type": "code",
   "execution_count": null,
   "id": "3221ee6c-eab4-4acc-b233-623d887400e6",
   "metadata": {},
   "outputs": [],
   "source": []
  },
  {
   "cell_type": "code",
   "execution_count": null,
   "id": "4a163a8c-04a0-46bd-a390-678b4cde0cc3",
   "metadata": {},
   "outputs": [],
   "source": []
  },
  {
   "cell_type": "code",
   "execution_count": null,
   "id": "4d8b42eb-0d15-40b6-94c4-0747c4c61175",
   "metadata": {},
   "outputs": [],
   "source": []
  },
  {
   "cell_type": "code",
   "execution_count": null,
   "id": "caab6e6d-bc66-4f4a-8525-4f6da5230488",
   "metadata": {},
   "outputs": [],
   "source": []
  },
  {
   "cell_type": "code",
   "execution_count": null,
   "id": "0e67c514-c4c9-4c2f-9097-9eb90a1d482d",
   "metadata": {},
   "outputs": [],
   "source": []
  },
  {
   "cell_type": "code",
   "execution_count": null,
   "id": "e10cf60d-9972-4b79-bd5e-43e73c94d937",
   "metadata": {},
   "outputs": [],
   "source": []
  },
  {
   "cell_type": "code",
   "execution_count": null,
   "id": "838628c8-20b5-417f-adc0-ce761764423a",
   "metadata": {},
   "outputs": [],
   "source": []
  },
  {
   "cell_type": "code",
   "execution_count": null,
   "id": "deb90da3-47aa-4480-bfb6-34ec700e9e61",
   "metadata": {},
   "outputs": [],
   "source": []
  }
 ],
 "metadata": {
  "kernelspec": {
   "display_name": "base",
   "language": "python",
   "name": "python3"
  },
  "language_info": {
   "codemirror_mode": {
    "name": "ipython",
    "version": 3
   },
   "file_extension": ".py",
   "mimetype": "text/x-python",
   "name": "python",
   "nbconvert_exporter": "python",
   "pygments_lexer": "ipython3",
   "version": "3.12.7"
  }
 },
 "nbformat": 4,
 "nbformat_minor": 5
}
